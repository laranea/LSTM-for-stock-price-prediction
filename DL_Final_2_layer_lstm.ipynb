{
 "cells": [
  {
   "cell_type": "code",
   "execution_count": 1,
   "metadata": {
    "colab": {
     "base_uri": "https://localhost:8080/",
     "height": 581
    },
    "colab_type": "code",
    "id": "7JJS79H25wL-",
    "outputId": "ff845f6c-a83a-46ba-dcbd-2b0776f575ec"
   },
   "outputs": [
    {
     "name": "stdout",
     "output_type": "stream",
     "text": [
      "Requirement already satisfied: mpl_finance in /Users/eitanohana/anaconda3/lib/python3.7/site-packages (0.10.0)\n",
      "Requirement already satisfied: matplotlib in /Users/eitanohana/anaconda3/lib/python3.7/site-packages (from mpl_finance) (3.0.2)\n",
      "Requirement already satisfied: numpy>=1.10.0 in /Users/eitanohana/anaconda3/lib/python3.7/site-packages (from matplotlib->mpl_finance) (1.15.4)\n",
      "Requirement already satisfied: cycler>=0.10 in /Users/eitanohana/anaconda3/lib/python3.7/site-packages (from matplotlib->mpl_finance) (0.10.0)\n",
      "Requirement already satisfied: kiwisolver>=1.0.1 in /Users/eitanohana/anaconda3/lib/python3.7/site-packages (from matplotlib->mpl_finance) (1.0.1)\n",
      "Requirement already satisfied: pyparsing!=2.0.4,!=2.1.2,!=2.1.6,>=2.0.1 in /Users/eitanohana/anaconda3/lib/python3.7/site-packages (from matplotlib->mpl_finance) (2.3.0)\n",
      "Requirement already satisfied: python-dateutil>=2.1 in /Users/eitanohana/anaconda3/lib/python3.7/site-packages (from matplotlib->mpl_finance) (2.7.5)\n",
      "Requirement already satisfied: six in /Users/eitanohana/anaconda3/lib/python3.7/site-packages (from cycler>=0.10->matplotlib->mpl_finance) (1.12.0)\n",
      "Requirement already satisfied: setuptools in /Users/eitanohana/anaconda3/lib/python3.7/site-packages (from kiwisolver>=1.0.1->matplotlib->mpl_finance) (41.0.1)\n",
      "Collecting yfinance\n",
      "  Downloading yfinance-0.1.54.tar.gz (19 kB)\n",
      "Collecting pandas>=0.24\n",
      "  Downloading pandas-1.0.1-cp37-cp37m-macosx_10_9_x86_64.whl (9.8 MB)\n",
      "\u001b[K     |████████████████████████████████| 9.8 MB 10.9 MB/s eta 0:00:01\n",
      "\u001b[?25hRequirement already satisfied: numpy>=1.15 in /Users/eitanohana/anaconda3/lib/python3.7/site-packages (from yfinance) (1.15.4)\n",
      "Requirement already satisfied: requests>=2.20 in /Users/eitanohana/anaconda3/lib/python3.7/site-packages (from yfinance) (2.21.0)\n",
      "Collecting multitasking>=0.0.7\n",
      "  Downloading multitasking-0.0.9.tar.gz (8.1 kB)\n",
      "Requirement already satisfied: python-dateutil>=2.6.1 in /Users/eitanohana/anaconda3/lib/python3.7/site-packages (from pandas>=0.24->yfinance) (2.7.5)\n",
      "Requirement already satisfied: pytz>=2017.2 in /Users/eitanohana/anaconda3/lib/python3.7/site-packages (from pandas>=0.24->yfinance) (2018.7)\n",
      "Requirement already satisfied: urllib3<1.25,>=1.21.1 in /Users/eitanohana/anaconda3/lib/python3.7/site-packages (from requests>=2.20->yfinance) (1.24.1)\n",
      "Requirement already satisfied: certifi>=2017.4.17 in /Users/eitanohana/anaconda3/lib/python3.7/site-packages (from requests>=2.20->yfinance) (2018.11.29)\n",
      "Requirement already satisfied: idna<2.9,>=2.5 in /Users/eitanohana/anaconda3/lib/python3.7/site-packages (from requests>=2.20->yfinance) (2.8)\n",
      "Requirement already satisfied: chardet<3.1.0,>=3.0.2 in /Users/eitanohana/anaconda3/lib/python3.7/site-packages (from requests>=2.20->yfinance) (3.0.4)\n",
      "Requirement already satisfied: six>=1.5 in /Users/eitanohana/anaconda3/lib/python3.7/site-packages (from python-dateutil>=2.6.1->pandas>=0.24->yfinance) (1.12.0)\n",
      "Building wheels for collected packages: yfinance, multitasking\n",
      "  Building wheel for yfinance (setup.py) ... \u001b[?25ldone\n",
      "\u001b[?25h  Created wheel for yfinance: filename=yfinance-0.1.54-py2.py3-none-any.whl size=22409 sha256=c5dd3ab20a5bb4968b97535f726bfc94ce5ba7b788b2388e337d94d7767a19d0\n",
      "  Stored in directory: /Users/eitanohana/Library/Caches/pip/wheels/28/79/3c/08a301b673366fe664fe2853e136eb2acc1bb752045c11c6a1\n",
      "  Building wheel for multitasking (setup.py) ... \u001b[?25ldone\n",
      "\u001b[?25h  Created wheel for multitasking: filename=multitasking-0.0.9-py3-none-any.whl size=8369 sha256=f0a5590cf45b0c20c83189ebcc01c8fffa5b5bc3591fd561c421f0560306fa65\n",
      "  Stored in directory: /Users/eitanohana/Library/Caches/pip/wheels/ae/25/47/4d68431a7ec1b6c4b5233365934b74c1d4e665bf5f968d363a\n",
      "Successfully built yfinance multitasking\n",
      "Installing collected packages: pandas, multitasking, yfinance\n",
      "  Attempting uninstall: pandas\n",
      "    Found existing installation: pandas 0.23.4\n",
      "    Uninstalling pandas-0.23.4:\n",
      "      Successfully uninstalled pandas-0.23.4\n",
      "Successfully installed multitasking-0.0.9 pandas-1.0.1 yfinance-0.1.54\n"
     ]
    }
   ],
   "source": [
    "# !pip install mpl_finance\n",
    "# !pip install yfinance"
   ]
  },
  {
   "cell_type": "code",
   "execution_count": 2,
   "metadata": {
    "colab": {},
    "colab_type": "code",
    "id": "qekVdpsYXfyq"
   },
   "outputs": [],
   "source": [
    "%matplotlib inline\n",
    "import numpy as np\n",
    "import pandas as pd\n",
    "import math\n",
    "import sklearn\n",
    "from sklearn.preprocessing import StandardScaler\n",
    "import datetime\n",
    "import os\n",
    "import matplotlib.pyplot as plt\n",
    "import matplotlib.dates as dates\n",
    "import matplotlib.ticker as mticker\n",
    "from mpl_finance import candlestick_ohlc\n",
    "import yfinance as yf\n",
    "\n",
    "import torch\n",
    "import torch.nn as nn\n",
    "import torchvision\n",
    "import torchvision.transforms as transforms\n",
    "from torchvision.datasets import MNIST\n",
    "\n",
    "import matplotlib.pyplot as plt"
   ]
  },
  {
   "cell_type": "code",
   "execution_count": 4,
   "metadata": {
    "colab": {
     "base_uri": "https://localhost:8080/",
     "height": 122
    },
    "colab_type": "code",
    "id": "krMHzA_kJ0D-",
    "outputId": "21c95597-f715-4d6f-95c3-9f8f8b8790ce",
    "scrolled": true
   },
   "outputs": [],
   "source": [
    "# from google.colab import drive\n",
    "# drive.mount('/content/drive')"
   ]
  },
  {
   "cell_type": "code",
   "execution_count": 5,
   "metadata": {
    "colab": {
     "base_uri": "https://localhost:8080/",
     "height": 34
    },
    "colab_type": "code",
    "id": "a0EaCaXfZRLk",
    "outputId": "5aba3e0e-1add-4ae7-a87d-8110bbd022a1"
   },
   "outputs": [
    {
     "data": {
      "text/plain": [
       "device(type='cpu')"
      ]
     },
     "execution_count": 5,
     "metadata": {},
     "output_type": "execute_result"
    }
   ],
   "source": [
    "device = torch.device('cuda' if torch.cuda.is_available() else 'cpu')\n",
    "device"
   ]
  },
  {
   "cell_type": "markdown",
   "metadata": {
    "colab_type": "text",
    "id": "fcL-cLwmW_sD"
   },
   "source": [
    "## We'll train on AAPL"
   ]
  },
  {
   "cell_type": "code",
   "execution_count": 6,
   "metadata": {
    "colab": {
     "base_uri": "https://localhost:8080/",
     "height": 450
    },
    "colab_type": "code",
    "id": "3iAK7i45YLJb",
    "outputId": "52e4140a-9f23-4616-e021-4065380244a4"
   },
   "outputs": [
    {
     "data": {
      "text/html": [
       "<div>\n",
       "<style scoped>\n",
       "    .dataframe tbody tr th:only-of-type {\n",
       "        vertical-align: middle;\n",
       "    }\n",
       "\n",
       "    .dataframe tbody tr th {\n",
       "        vertical-align: top;\n",
       "    }\n",
       "\n",
       "    .dataframe thead th {\n",
       "        text-align: right;\n",
       "    }\n",
       "</style>\n",
       "<table border=\"1\" class=\"dataframe\">\n",
       "  <thead>\n",
       "    <tr style=\"text-align: right;\">\n",
       "      <th></th>\n",
       "      <th>Open</th>\n",
       "      <th>High</th>\n",
       "      <th>Low</th>\n",
       "      <th>Close</th>\n",
       "      <th>Volume</th>\n",
       "    </tr>\n",
       "    <tr>\n",
       "      <th>Date</th>\n",
       "      <th></th>\n",
       "      <th></th>\n",
       "      <th></th>\n",
       "      <th></th>\n",
       "      <th></th>\n",
       "    </tr>\n",
       "  </thead>\n",
       "  <tbody>\n",
       "    <tr>\n",
       "      <th>2012-01-03</th>\n",
       "      <td>50.77</td>\n",
       "      <td>51.15</td>\n",
       "      <td>50.72</td>\n",
       "      <td>50.99</td>\n",
       "      <td>75555200</td>\n",
       "    </tr>\n",
       "    <tr>\n",
       "      <th>2012-01-04</th>\n",
       "      <td>50.84</td>\n",
       "      <td>51.42</td>\n",
       "      <td>50.75</td>\n",
       "      <td>51.27</td>\n",
       "      <td>65005500</td>\n",
       "    </tr>\n",
       "    <tr>\n",
       "      <th>2012-01-05</th>\n",
       "      <td>51.46</td>\n",
       "      <td>51.90</td>\n",
       "      <td>51.17</td>\n",
       "      <td>51.84</td>\n",
       "      <td>67817400</td>\n",
       "    </tr>\n",
       "    <tr>\n",
       "      <th>2012-01-06</th>\n",
       "      <td>52.05</td>\n",
       "      <td>52.42</td>\n",
       "      <td>51.99</td>\n",
       "      <td>52.38</td>\n",
       "      <td>79573200</td>\n",
       "    </tr>\n",
       "    <tr>\n",
       "      <th>2012-01-09</th>\n",
       "      <td>52.76</td>\n",
       "      <td>53.04</td>\n",
       "      <td>52.25</td>\n",
       "      <td>52.30</td>\n",
       "      <td>98506100</td>\n",
       "    </tr>\n",
       "    <tr>\n",
       "      <th>...</th>\n",
       "      <td>...</td>\n",
       "      <td>...</td>\n",
       "      <td>...</td>\n",
       "      <td>...</td>\n",
       "      <td>...</td>\n",
       "    </tr>\n",
       "    <tr>\n",
       "      <th>2020-02-24</th>\n",
       "      <td>297.26</td>\n",
       "      <td>304.18</td>\n",
       "      <td>289.23</td>\n",
       "      <td>298.18</td>\n",
       "      <td>55548800</td>\n",
       "    </tr>\n",
       "    <tr>\n",
       "      <th>2020-02-25</th>\n",
       "      <td>300.95</td>\n",
       "      <td>302.53</td>\n",
       "      <td>286.13</td>\n",
       "      <td>288.08</td>\n",
       "      <td>57668400</td>\n",
       "    </tr>\n",
       "    <tr>\n",
       "      <th>2020-02-26</th>\n",
       "      <td>286.53</td>\n",
       "      <td>297.88</td>\n",
       "      <td>286.50</td>\n",
       "      <td>292.65</td>\n",
       "      <td>49513700</td>\n",
       "    </tr>\n",
       "    <tr>\n",
       "      <th>2020-02-27</th>\n",
       "      <td>281.10</td>\n",
       "      <td>286.00</td>\n",
       "      <td>272.96</td>\n",
       "      <td>273.52</td>\n",
       "      <td>80151400</td>\n",
       "    </tr>\n",
       "    <tr>\n",
       "      <th>2020-02-28</th>\n",
       "      <td>257.26</td>\n",
       "      <td>278.41</td>\n",
       "      <td>256.37</td>\n",
       "      <td>273.36</td>\n",
       "      <td>106721200</td>\n",
       "    </tr>\n",
       "  </tbody>\n",
       "</table>\n",
       "<p>2052 rows × 5 columns</p>\n",
       "</div>"
      ],
      "text/plain": [
       "              Open    High     Low   Close     Volume\n",
       "Date                                                 \n",
       "2012-01-03   50.77   51.15   50.72   50.99   75555200\n",
       "2012-01-04   50.84   51.42   50.75   51.27   65005500\n",
       "2012-01-05   51.46   51.90   51.17   51.84   67817400\n",
       "2012-01-06   52.05   52.42   51.99   52.38   79573200\n",
       "2012-01-09   52.76   53.04   52.25   52.30   98506100\n",
       "...            ...     ...     ...     ...        ...\n",
       "2020-02-24  297.26  304.18  289.23  298.18   55548800\n",
       "2020-02-25  300.95  302.53  286.13  288.08   57668400\n",
       "2020-02-26  286.53  297.88  286.50  292.65   49513700\n",
       "2020-02-27  281.10  286.00  272.96  273.52   80151400\n",
       "2020-02-28  257.26  278.41  256.37  273.36  106721200\n",
       "\n",
       "[2052 rows x 5 columns]"
      ]
     },
     "execution_count": 6,
     "metadata": {},
     "output_type": "execute_result"
    }
   ],
   "source": [
    "apple = yf.Ticker('AAPL')\n",
    "apple_data = apple.history(start=\"2012-01-01\", end=\"2020-02-29\", auto_adjust=True, actions=False)\n",
    "apple_data"
   ]
  },
  {
   "cell_type": "code",
   "execution_count": 10,
   "metadata": {
    "colab": {
     "base_uri": "https://localhost:8080/",
     "height": 153
    },
    "colab_type": "code",
    "id": "fpl4KohLNiTJ",
    "outputId": "034da1c0-0d1a-4d2d-80eb-e39d3274ad2d"
   },
   "outputs": [
    {
     "data": {
      "text/plain": [
       "DatetimeIndex(['2012-01-03', '2012-01-04', '2012-01-05', '2012-01-06',\n",
       "               '2012-01-09', '2012-01-10', '2012-01-11', '2012-01-12',\n",
       "               '2012-01-13', '2012-01-17',\n",
       "               ...\n",
       "               '2020-02-14', '2020-02-18', '2020-02-19', '2020-02-20',\n",
       "               '2020-02-21', '2020-02-24', '2020-02-25', '2020-02-26',\n",
       "               '2020-02-27', '2020-02-28'],\n",
       "              dtype='datetime64[ns]', name='Date', length=2052, freq=None)"
      ]
     },
     "execution_count": 10,
     "metadata": {},
     "output_type": "execute_result"
    }
   ],
   "source": [
    "apple_data.index"
   ]
  },
  {
   "cell_type": "code",
   "execution_count": 11,
   "metadata": {
    "colab": {
     "base_uri": "https://localhost:8080/",
     "height": 450
    },
    "colab_type": "code",
    "id": "Z43fdnPLeMAV",
    "outputId": "6848cb58-6ff4-4cb6-88b2-eaa451bd5426"
   },
   "outputs": [
    {
     "data": {
      "text/html": [
       "<div>\n",
       "<style scoped>\n",
       "    .dataframe tbody tr th:only-of-type {\n",
       "        vertical-align: middle;\n",
       "    }\n",
       "\n",
       "    .dataframe tbody tr th {\n",
       "        vertical-align: top;\n",
       "    }\n",
       "\n",
       "    .dataframe thead th {\n",
       "        text-align: right;\n",
       "    }\n",
       "</style>\n",
       "<table border=\"1\" class=\"dataframe\">\n",
       "  <thead>\n",
       "    <tr style=\"text-align: right;\">\n",
       "      <th></th>\n",
       "      <th>Open</th>\n",
       "      <th>High</th>\n",
       "      <th>Low</th>\n",
       "      <th>Close</th>\n",
       "      <th>Volume</th>\n",
       "      <th>num_date</th>\n",
       "    </tr>\n",
       "    <tr>\n",
       "      <th>Date</th>\n",
       "      <th></th>\n",
       "      <th></th>\n",
       "      <th></th>\n",
       "      <th></th>\n",
       "      <th></th>\n",
       "      <th></th>\n",
       "    </tr>\n",
       "  </thead>\n",
       "  <tbody>\n",
       "    <tr>\n",
       "      <th>2012-01-03</th>\n",
       "      <td>50.77</td>\n",
       "      <td>51.15</td>\n",
       "      <td>50.72</td>\n",
       "      <td>50.99</td>\n",
       "      <td>75555200</td>\n",
       "      <td>734505.0</td>\n",
       "    </tr>\n",
       "    <tr>\n",
       "      <th>2012-01-04</th>\n",
       "      <td>50.84</td>\n",
       "      <td>51.42</td>\n",
       "      <td>50.75</td>\n",
       "      <td>51.27</td>\n",
       "      <td>65005500</td>\n",
       "      <td>734506.0</td>\n",
       "    </tr>\n",
       "    <tr>\n",
       "      <th>2012-01-05</th>\n",
       "      <td>51.46</td>\n",
       "      <td>51.90</td>\n",
       "      <td>51.17</td>\n",
       "      <td>51.84</td>\n",
       "      <td>67817400</td>\n",
       "      <td>734507.0</td>\n",
       "    </tr>\n",
       "    <tr>\n",
       "      <th>2012-01-06</th>\n",
       "      <td>52.05</td>\n",
       "      <td>52.42</td>\n",
       "      <td>51.99</td>\n",
       "      <td>52.38</td>\n",
       "      <td>79573200</td>\n",
       "      <td>734508.0</td>\n",
       "    </tr>\n",
       "    <tr>\n",
       "      <th>2012-01-09</th>\n",
       "      <td>52.76</td>\n",
       "      <td>53.04</td>\n",
       "      <td>52.25</td>\n",
       "      <td>52.30</td>\n",
       "      <td>98506100</td>\n",
       "      <td>734511.0</td>\n",
       "    </tr>\n",
       "    <tr>\n",
       "      <th>...</th>\n",
       "      <td>...</td>\n",
       "      <td>...</td>\n",
       "      <td>...</td>\n",
       "      <td>...</td>\n",
       "      <td>...</td>\n",
       "      <td>...</td>\n",
       "    </tr>\n",
       "    <tr>\n",
       "      <th>2020-02-24</th>\n",
       "      <td>297.26</td>\n",
       "      <td>304.18</td>\n",
       "      <td>289.23</td>\n",
       "      <td>298.18</td>\n",
       "      <td>55548800</td>\n",
       "      <td>737479.0</td>\n",
       "    </tr>\n",
       "    <tr>\n",
       "      <th>2020-02-25</th>\n",
       "      <td>300.95</td>\n",
       "      <td>302.53</td>\n",
       "      <td>286.13</td>\n",
       "      <td>288.08</td>\n",
       "      <td>57668400</td>\n",
       "      <td>737480.0</td>\n",
       "    </tr>\n",
       "    <tr>\n",
       "      <th>2020-02-26</th>\n",
       "      <td>286.53</td>\n",
       "      <td>297.88</td>\n",
       "      <td>286.50</td>\n",
       "      <td>292.65</td>\n",
       "      <td>49513700</td>\n",
       "      <td>737481.0</td>\n",
       "    </tr>\n",
       "    <tr>\n",
       "      <th>2020-02-27</th>\n",
       "      <td>281.10</td>\n",
       "      <td>286.00</td>\n",
       "      <td>272.96</td>\n",
       "      <td>273.52</td>\n",
       "      <td>80151400</td>\n",
       "      <td>737482.0</td>\n",
       "    </tr>\n",
       "    <tr>\n",
       "      <th>2020-02-28</th>\n",
       "      <td>257.26</td>\n",
       "      <td>278.41</td>\n",
       "      <td>256.37</td>\n",
       "      <td>273.36</td>\n",
       "      <td>106721200</td>\n",
       "      <td>737483.0</td>\n",
       "    </tr>\n",
       "  </tbody>\n",
       "</table>\n",
       "<p>2052 rows × 6 columns</p>\n",
       "</div>"
      ],
      "text/plain": [
       "              Open    High     Low   Close     Volume  num_date\n",
       "Date                                                           \n",
       "2012-01-03   50.77   51.15   50.72   50.99   75555200  734505.0\n",
       "2012-01-04   50.84   51.42   50.75   51.27   65005500  734506.0\n",
       "2012-01-05   51.46   51.90   51.17   51.84   67817400  734507.0\n",
       "2012-01-06   52.05   52.42   51.99   52.38   79573200  734508.0\n",
       "2012-01-09   52.76   53.04   52.25   52.30   98506100  734511.0\n",
       "...            ...     ...     ...     ...        ...       ...\n",
       "2020-02-24  297.26  304.18  289.23  298.18   55548800  737479.0\n",
       "2020-02-25  300.95  302.53  286.13  288.08   57668400  737480.0\n",
       "2020-02-26  286.53  297.88  286.50  292.65   49513700  737481.0\n",
       "2020-02-27  281.10  286.00  272.96  273.52   80151400  737482.0\n",
       "2020-02-28  257.26  278.41  256.37  273.36  106721200  737483.0\n",
       "\n",
       "[2052 rows x 6 columns]"
      ]
     },
     "execution_count": 11,
     "metadata": {},
     "output_type": "execute_result"
    }
   ],
   "source": [
    "apple_data['num_date'] = dates.date2num(apple_data.index)\n",
    "apple_data"
   ]
  },
  {
   "cell_type": "code",
   "execution_count": 12,
   "metadata": {
    "colab": {},
    "colab_type": "code",
    "id": "qdAnkn7IcGxD"
   },
   "outputs": [],
   "source": [
    "# Create a list of lists where each inner-list represents\n",
    "# one day's trading history\n",
    "apple = apple_data[['num_date', 'Open', 'High', 'Low', 'Close', 'Volume']]\n",
    "apple_list = apple.values.tolist()"
   ]
  },
  {
   "cell_type": "markdown",
   "metadata": {
    "colab_type": "text",
    "id": "nlZKYoMzebTQ"
   },
   "source": [
    "Plot a candlestick chart for Apples stock"
   ]
  },
  {
   "cell_type": "code",
   "execution_count": 13,
   "metadata": {
    "colab": {
     "base_uri": "https://localhost:8080/",
     "height": 519
    },
    "colab_type": "code",
    "id": "IB7WwbO8cM7X",
    "outputId": "ca7738ca-30a4-4437-87bf-e108a7a06665"
   },
   "outputs": [
    {
     "data": {
      "image/png": "[encoded data removed]",
      "text/plain": [
       "<Figure size 1152x576 with 1 Axes>"
      ]
     },
     "metadata": {
      "needs_background": "light"
     },
     "output_type": "display_data"
    }
   ],
   "source": [
    "\n",
    "# Build the plot\n",
    "fig = plt.figure(figsize=(16,8))\n",
    "ax1 = plt.subplot2grid((1,1), (0,0))\n",
    "\n",
    "candlestick_ohlc(ax1, apple_list, width=0.4, colorup='#77d879', colordown='#db3f3f',)\n",
    "\n",
    "for label in ax1.xaxis.get_ticklabels():\n",
    "     label.set_rotation(45)\n",
    "\n",
    "ax1.xaxis.set_major_formatter(dates.DateFormatter('%Y-%m-%d'))\n",
    "ax1.xaxis.set_major_locator(mticker.MaxNLocator(50))\n",
    "ax1.grid(True, alpha=0.5, linestyle='-.')\n",
    "\n",
    "plt.xlabel('Date')\n",
    "plt.ylabel('Price')\n",
    "plt.title('Apple adjusted stock price')\n",
    "plt.subplots_adjust(left=0.09, bottom=0.20, right=0.94, top=0.90, wspace=0.2, hspace=0)\n",
    "plt.show()"
   ]
  },
  {
   "cell_type": "markdown",
   "metadata": {
    "colab_type": "text",
    "id": "B1rU65VpHOEa"
   },
   "source": [
    "# Scaling the data"
   ]
  },
  {
   "cell_type": "code",
   "execution_count": 0,
   "metadata": {
    "colab": {
     "base_uri": "https://localhost:8080/",
     "height": 450
    },
    "colab_type": "code",
    "id": "9hKjW_BBHRgv",
    "outputId": "ded987b2-90c7-4323-95be-8b276a21a203"
   },
   "outputs": [
    {
     "data": {
      "text/html": [
       "<div>\n",
       "<style scoped>\n",
       "    .dataframe tbody tr th:only-of-type {\n",
       "        vertical-align: middle;\n",
       "    }\n",
       "\n",
       "    .dataframe tbody tr th {\n",
       "        vertical-align: top;\n",
       "    }\n",
       "\n",
       "    .dataframe thead th {\n",
       "        text-align: right;\n",
       "    }\n",
       "</style>\n",
       "<table border=\"1\" class=\"dataframe\">\n",
       "  <thead>\n",
       "    <tr style=\"text-align: right;\">\n",
       "      <th></th>\n",
       "      <th>Open</th>\n",
       "      <th>High</th>\n",
       "      <th>Low</th>\n",
       "      <th>Close</th>\n",
       "      <th>Volume</th>\n",
       "    </tr>\n",
       "    <tr>\n",
       "      <th>Date</th>\n",
       "      <th></th>\n",
       "      <th></th>\n",
       "      <th></th>\n",
       "      <th></th>\n",
       "      <th></th>\n",
       "    </tr>\n",
       "  </thead>\n",
       "  <tbody>\n",
       "    <tr>\n",
       "      <th>2012-01-03</th>\n",
       "      <td>50.77</td>\n",
       "      <td>51.15</td>\n",
       "      <td>50.72</td>\n",
       "      <td>50.99</td>\n",
       "      <td>75555200</td>\n",
       "    </tr>\n",
       "    <tr>\n",
       "      <th>2012-01-04</th>\n",
       "      <td>50.84</td>\n",
       "      <td>51.42</td>\n",
       "      <td>50.75</td>\n",
       "      <td>51.27</td>\n",
       "      <td>65005500</td>\n",
       "    </tr>\n",
       "    <tr>\n",
       "      <th>2012-01-05</th>\n",
       "      <td>51.46</td>\n",
       "      <td>51.90</td>\n",
       "      <td>51.17</td>\n",
       "      <td>51.84</td>\n",
       "      <td>67817400</td>\n",
       "    </tr>\n",
       "    <tr>\n",
       "      <th>2012-01-06</th>\n",
       "      <td>52.05</td>\n",
       "      <td>52.42</td>\n",
       "      <td>51.99</td>\n",
       "      <td>52.38</td>\n",
       "      <td>79573200</td>\n",
       "    </tr>\n",
       "    <tr>\n",
       "      <th>2012-01-09</th>\n",
       "      <td>52.76</td>\n",
       "      <td>53.04</td>\n",
       "      <td>52.25</td>\n",
       "      <td>52.30</td>\n",
       "      <td>98506100</td>\n",
       "    </tr>\n",
       "    <tr>\n",
       "      <th>...</th>\n",
       "      <td>...</td>\n",
       "      <td>...</td>\n",
       "      <td>...</td>\n",
       "      <td>...</td>\n",
       "      <td>...</td>\n",
       "    </tr>\n",
       "    <tr>\n",
       "      <th>2020-02-24</th>\n",
       "      <td>297.26</td>\n",
       "      <td>304.18</td>\n",
       "      <td>289.23</td>\n",
       "      <td>298.18</td>\n",
       "      <td>55548800</td>\n",
       "    </tr>\n",
       "    <tr>\n",
       "      <th>2020-02-25</th>\n",
       "      <td>300.95</td>\n",
       "      <td>302.53</td>\n",
       "      <td>286.13</td>\n",
       "      <td>288.08</td>\n",
       "      <td>57668400</td>\n",
       "    </tr>\n",
       "    <tr>\n",
       "      <th>2020-02-26</th>\n",
       "      <td>286.53</td>\n",
       "      <td>297.88</td>\n",
       "      <td>286.50</td>\n",
       "      <td>292.65</td>\n",
       "      <td>49513700</td>\n",
       "    </tr>\n",
       "    <tr>\n",
       "      <th>2020-02-27</th>\n",
       "      <td>281.10</td>\n",
       "      <td>286.00</td>\n",
       "      <td>272.96</td>\n",
       "      <td>273.52</td>\n",
       "      <td>80151400</td>\n",
       "    </tr>\n",
       "    <tr>\n",
       "      <th>2020-02-28</th>\n",
       "      <td>257.26</td>\n",
       "      <td>278.41</td>\n",
       "      <td>256.37</td>\n",
       "      <td>273.36</td>\n",
       "      <td>106627500</td>\n",
       "    </tr>\n",
       "  </tbody>\n",
       "</table>\n",
       "<p>2052 rows × 5 columns</p>\n",
       "</div>"
      ],
      "text/plain": [
       "              Open    High     Low   Close     Volume\n",
       "Date                                                 \n",
       "2012-01-03   50.77   51.15   50.72   50.99   75555200\n",
       "2012-01-04   50.84   51.42   50.75   51.27   65005500\n",
       "2012-01-05   51.46   51.90   51.17   51.84   67817400\n",
       "2012-01-06   52.05   52.42   51.99   52.38   79573200\n",
       "2012-01-09   52.76   53.04   52.25   52.30   98506100\n",
       "...            ...     ...     ...     ...        ...\n",
       "2020-02-24  297.26  304.18  289.23  298.18   55548800\n",
       "2020-02-25  300.95  302.53  286.13  288.08   57668400\n",
       "2020-02-26  286.53  297.88  286.50  292.65   49513700\n",
       "2020-02-27  281.10  286.00  272.96  273.52   80151400\n",
       "2020-02-28  257.26  278.41  256.37  273.36  106627500\n",
       "\n",
       "[2052 rows x 5 columns]"
      ]
     },
     "execution_count": 239,
     "metadata": {
      "tags": []
     },
     "output_type": "execute_result"
    }
   ],
   "source": [
    "apple = apple[['Open', 'High', 'Low', 'Close', 'Volume']]\n",
    "apple"
   ]
  },
  {
   "cell_type": "code",
   "execution_count": 18,
   "metadata": {
    "colab": {
     "base_uri": "https://localhost:8080/",
     "height": 68
    },
    "colab_type": "code",
    "id": "WNwOxHwyKPLa",
    "outputId": "b8526674-609b-4240-bb77-5d6eb7cde904"
   },
   "outputs": [
    {
     "data": {
      "text/plain": [
       "array([[7.34505e+05, 5.07700e+01, 5.11500e+01, 5.07200e+01, 5.09900e+01,\n",
       "        7.55552e+07],\n",
       "       [7.34506e+05, 5.08400e+01, 5.14200e+01, 5.07500e+01, 5.12700e+01,\n",
       "        6.50055e+07],\n",
       "       [7.34507e+05, 5.14600e+01, 5.19000e+01, 5.11700e+01, 5.18400e+01,\n",
       "        6.78174e+07]])"
      ]
     },
     "execution_count": 18,
     "metadata": {},
     "output_type": "execute_result"
    }
   ],
   "source": [
    "data = apple.values\n",
    "data[:3]"
   ]
  },
  {
   "cell_type": "markdown",
   "metadata": {
    "colab_type": "text",
    "id": "SpE83wvACcUE"
   },
   "source": [
    "#### Split the data into training and testing sets"
   ]
  },
  {
   "cell_type": "code",
   "execution_count": 19,
   "metadata": {
    "colab": {},
    "colab_type": "code",
    "id": "pcUaooddCac2"
   },
   "outputs": [],
   "source": [
    "test_size = 365\n",
    "\n",
    "train_data = data[:-test_size]\n",
    "test_data = data[-test_size:]"
   ]
  },
  {
   "cell_type": "code",
   "execution_count": 20,
   "metadata": {
    "colab": {
     "base_uri": "https://localhost:8080/",
     "height": 85
    },
    "colab_type": "code",
    "id": "aeCh7ykyJVlr",
    "outputId": "ef304d37-4fb9-473d-8e71-e334a12fa96c"
   },
   "outputs": [
    {
     "data": {
      "text/plain": [
       "(1687,\n",
       " tensor([[-1.7321e+00, -1.3743e+00, -1.3776e+00, -1.3598e+00, -1.3671e+00,\n",
       "           2.1625e-01],\n",
       "         [-1.7307e+00, -1.3725e+00, -1.3706e+00, -1.3590e+00, -1.3598e+00,\n",
       "           6.4320e-04],\n",
       "         [-1.7293e+00, -1.3565e+00, -1.3583e+00, -1.3481e+00, -1.3452e+00,\n",
       "           5.8111e-02]]))"
      ]
     },
     "execution_count": 20,
     "metadata": {},
     "output_type": "execute_result"
    }
   ],
   "source": [
    "scaler = StandardScaler()\n",
    "train_data = scaler.fit_transform(train_data)\n",
    "train_data = torch.FloatTensor(train_data).to(device)\n",
    "len(train_data), train_data[:3]"
   ]
  },
  {
   "cell_type": "code",
   "execution_count": 21,
   "metadata": {
    "colab": {
     "base_uri": "https://localhost:8080/",
     "height": 68
    },
    "colab_type": "code",
    "id": "xtU1RKENFAyv",
    "outputId": "d6e16139-2659-4a98-d41a-17d7e16b421e"
   },
   "outputs": [
    {
     "data": {
      "text/plain": [
       "(365, tensor([[-1.7239,  0.0520,  0.0203, -0.0083, -0.0443,  0.4056],\n",
       "         [-1.7174, -0.0409, -0.0030, -0.0114, -0.0367, -0.0054],\n",
       "         [-1.7109, -0.0257, -0.0500, -0.0503, -0.0339, -0.3304]]))"
      ]
     },
     "execution_count": 21,
     "metadata": {},
     "output_type": "execute_result"
    }
   ],
   "source": [
    "scaler = StandardScaler()\n",
    "test_data = scaler.fit_transform(test_data)\n",
    "test_data = torch.FloatTensor(test_data).to(device)\n",
    "len(test_data), test_data[:3]"
   ]
  },
  {
   "cell_type": "code",
   "execution_count": 22,
   "metadata": {
    "colab": {},
    "colab_type": "code",
    "id": "NtrOxqxzDNrD"
   },
   "outputs": [],
   "source": [
    "# we split the data into 100 day sequences of open, high, low, close data\n",
    "# and the target value to be the next days closing price.\n",
    "def create_sequences(input_data, seq_len):\n",
    "    seq = []\n",
    "    L = len(input_data)\n",
    "    for i in range(L-seq_len):\n",
    "        train_seq = input_data[i:i+seq_len]\n",
    "        train_label = input_data[i+seq_len:i+seq_len+1][0,3]\n",
    "        seq.append((train_seq ,train_label))\n",
    "    return seq"
   ]
  },
  {
   "cell_type": "code",
   "execution_count": 24,
   "metadata": {
    "colab": {
     "base_uri": "https://localhost:8080/",
     "height": 51
    },
    "colab_type": "code",
    "id": "QekjhqujFAkP",
    "outputId": "4ae7a7a3-ecd9-474d-f8d4-a50dc899028d"
   },
   "outputs": [
    {
     "name": "stdout",
     "output_type": "stream",
     "text": [
      "There are 1587 training sequences where each sequence has a shape of torch.Size([100, 6])\n",
      "and each sequence is paired with the closing price of the next day.\n"
     ]
    }
   ],
   "source": [
    "seq_len = 100\n",
    "train_seq = create_sequences(train_data, seq_len)\n",
    "print(f'There are {len(train_seq)} training sequences where each sequence has a shape of {train_seq[0][0].shape}')\n",
    "print(f'and each sequence is paired with the closing price of the next day.')"
   ]
  },
  {
   "cell_type": "code",
   "execution_count": 26,
   "metadata": {
    "colab": {
     "base_uri": "https://localhost:8080/",
     "height": 51
    },
    "colab_type": "code",
    "id": "QApX5hClpbM0",
    "outputId": "dfe6fd5d-c4d0-4129-ddcf-db6515943794"
   },
   "outputs": [
    {
     "name": "stdout",
     "output_type": "stream",
     "text": [
      "There are 265 testing sequences where each sequence has a shape of torch.Size([100, 6])\n",
      "and each sequence is paired with the closing price of the next day.\n"
     ]
    }
   ],
   "source": [
    "test_seq = create_sequences(test_data, seq_len)\n",
    "print(f'There are {len(test_seq)} testing sequences where each sequence has a shape of {test_seq[0][0].shape}')\n",
    "print(f'and each sequence is paired with the closing price of the next day.')"
   ]
  },
  {
   "cell_type": "code",
   "execution_count": 27,
   "metadata": {
    "colab": {},
    "colab_type": "code",
    "id": "BVi9oPHAfVEY"
   },
   "outputs": [],
   "source": [
    "class LSTM(nn.Module):\n",
    "    def __init__(self, input_size, hidden_size, num_layers, output_size):\n",
    "        super(LSTM, self).__init__()\n",
    "\n",
    "        self.hidden_size = hidden_size\n",
    "        self.num_layers = num_layers\n",
    "\n",
    "        self.lstm = nn.LSTM(input_size, hidden_size, num_layers)\n",
    "        self.fc = nn.Linear(hidden_size, output_size)\n",
    "        \n",
    "        self.h0 = torch.zeros(num_layers, 1, hidden_size, device=device)\n",
    "        self.c0 = torch.zeros(num_layers, 1, hidden_size, device=device)\n",
    "\n",
    "    def forward(self, x):       \n",
    "        out_lstm, (self.h0, self.c0) = self.lstm(x.view(len(x),1,-1), (self.h0, self.c0))\n",
    "        out = self.fc(out_lstm.view(len(out_lstm), -1))\n",
    "        return out[-1][0]\n",
    "\n"
   ]
  },
  {
   "cell_type": "code",
   "execution_count": 28,
   "metadata": {
    "colab": {
     "base_uri": "https://localhost:8080/",
     "height": 85
    },
    "colab_type": "code",
    "id": "QSe3ntBcJW6v",
    "outputId": "1afb0ab1-0437-46f5-d6bb-871f46dd2f50"
   },
   "outputs": [
    {
     "name": "stdout",
     "output_type": "stream",
     "text": [
      "LSTM(\n",
      "  (lstm): LSTM(5, 100, num_layers=2)\n",
      "  (fc): Linear(in_features=100, out_features=1, bias=True)\n",
      ")\n"
     ]
    }
   ],
   "source": [
    "model = LSTM(input_size=5, hidden_size=100, num_layers=2, output_size=1).to(device)\n",
    "loss_function = nn.MSELoss().to(device)\n",
    "optimizer = torch.optim.Adam(model.parameters(), lr=0.001)\n",
    "\n",
    "print(model)"
   ]
  },
  {
   "cell_type": "code",
   "execution_count": 0,
   "metadata": {
    "colab": {
     "base_uri": "https://localhost:8080/",
     "height": 1000
    },
    "colab_type": "code",
    "id": "2YbQcPkp-guP",
    "outputId": "0632ef85-9679-49ce-984b-947d0c11bd6e"
   },
   "outputs": [
    {
     "name": "stdout",
     "output_type": "stream",
     "text": [
      "Epoch   1, iteration     0, loss: 0.015896023511886598\n",
      "Epoch   1, iteration    50, loss: 0.0683131450950168\n",
      "Epoch   1, iteration   100, loss: 0.00457811583351031\n",
      "Epoch   1, iteration   150, loss: 0.01074496469116184\n",
      "Epoch   1, iteration   200, loss: 0.004212787057504101\n",
      "Epoch   1, iteration   250, loss: 0.0073747106412065475\n",
      "Epoch   1, iteration   300, loss: 0.00251864781792392\n",
      "Epoch   1, iteration   350, loss: 0.003143200412819169\n",
      "Epoch   1, iteration   400, loss: 0.003866112800205315\n",
      "Epoch   1, iteration   450, loss: 0.0055724142034387115\n",
      "Epoch   1, iteration   500, loss: 0.007699953664417763\n",
      "Epoch   1, iteration   550, loss: 0.0034662876613317196\n",
      "Epoch   1, iteration   600, loss: 0.0024858518577059387\n",
      "Epoch   1, iteration   650, loss: 0.012161461852119828\n",
      "Epoch   1, iteration   700, loss: 0.03595075146895397\n",
      "Epoch   1, iteration   750, loss: 0.004241189823449219\n",
      "Epoch   1, iteration   800, loss: 0.0048237437615807725\n",
      "Epoch   1, iteration   850, loss: 0.014740122675575548\n",
      "Epoch   1, iteration   900, loss: 0.01354487772131506\n",
      "Epoch   1, iteration   950, loss: 0.04637464593706682\n",
      "Epoch   1, iteration  1000, loss: 0.02592593375509525\n",
      "Epoch   1, iteration  1050, loss: 0.0042830673352546\n",
      "Epoch   1, iteration  1100, loss: 0.01244916551579081\n",
      "Epoch   1, iteration  1150, loss: 0.006951327895349095\n",
      "Epoch   1, iteration  1200, loss: 0.011752513620594983\n",
      "Epoch   1, iteration  1250, loss: 0.0018808689591878647\n",
      "Epoch   1, iteration  1300, loss: 0.011451693154886016\n",
      "Epoch   1, iteration  1350, loss: 0.01329588341384806\n",
      "Epoch   1, iteration  1400, loss: 0.021619320532322774\n",
      "Epoch   1, iteration  1450, loss: 0.03668650832551066\n",
      "Epoch   1, iteration  1500, loss: 0.052259239364848324\n",
      "Epoch   1, iteration  1550, loss: 0.014333857097553845\n",
      "Epoch   2, iteration     0, loss: 0.014848148354976729\n",
      "Epoch   2, iteration    50, loss: 0.0032210771839734777\n",
      "Epoch   2, iteration   100, loss: 0.005928343437831245\n",
      "Epoch   2, iteration   150, loss: 0.012301700852003706\n",
      "Epoch   2, iteration   200, loss: 0.007028281390303164\n",
      "Epoch   2, iteration   250, loss: 0.005949677993339719\n",
      "Epoch   2, iteration   300, loss: 0.004303952646287143\n",
      "Epoch   2, iteration   350, loss: 0.004292973315605195\n",
      "Epoch   2, iteration   400, loss: 0.002754473406264424\n",
      "Epoch   2, iteration   450, loss: 0.005074369545836816\n",
      "Epoch   2, iteration   500, loss: 0.005931656169677808\n",
      "Epoch   2, iteration   550, loss: 0.0031488342315424234\n",
      "Epoch   2, iteration   600, loss: 0.003395852650683082\n",
      "Epoch   2, iteration   650, loss: 0.007422580720486849\n",
      "Epoch   2, iteration   700, loss: 0.02841817361599169\n",
      "Epoch   2, iteration   750, loss: 0.25321044776890633\n",
      "Epoch   2, iteration   800, loss: 0.01340686283800835\n",
      "Epoch   2, iteration   850, loss: 0.010902658123898163\n",
      "Epoch   2, iteration   900, loss: 0.006212735580811568\n",
      "Epoch   2, iteration   950, loss: 0.013168124565972904\n",
      "Epoch   2, iteration  1000, loss: 0.0049778908573615156\n",
      "Epoch   2, iteration  1050, loss: 0.010419425965910705\n",
      "Epoch   2, iteration  1100, loss: 0.010198127554354812\n",
      "Epoch   2, iteration  1150, loss: 0.006427421260566462\n",
      "Epoch   2, iteration  1200, loss: 0.006334034904539294\n",
      "Epoch   2, iteration  1250, loss: 0.0025137072519919455\n",
      "Epoch   2, iteration  1300, loss: 0.00797362947381771\n",
      "Epoch   2, iteration  1350, loss: 0.005122528640231394\n",
      "Epoch   2, iteration  1400, loss: 0.012977525904680078\n",
      "Epoch   2, iteration  1450, loss: 0.04250693131012696\n",
      "Epoch   2, iteration  1500, loss: 0.04719046755354611\n",
      "Epoch   2, iteration  1550, loss: 0.012368962238724635\n",
      "Epoch   3, iteration     0, loss: 0.02635672984788471\n",
      "Epoch   3, iteration    50, loss: 0.033421836310953947\n",
      "Epoch   3, iteration   100, loss: 0.0035840402185434075\n",
      "Epoch   3, iteration   150, loss: 0.014212576201125558\n",
      "Epoch   3, iteration   200, loss: 0.011096457839048526\n",
      "Epoch   3, iteration   250, loss: 0.00585452275114676\n",
      "Epoch   3, iteration   300, loss: 0.003965733094564712\n",
      "Epoch   3, iteration   350, loss: 0.004170166259318933\n",
      "Epoch   3, iteration   400, loss: 0.0034988029232420103\n",
      "Epoch   3, iteration   450, loss: 0.004161831590372458\n",
      "Epoch   3, iteration   500, loss: 0.0062446655065832605\n",
      "Epoch   3, iteration   550, loss: 0.0025562239784252937\n",
      "Epoch   3, iteration   600, loss: 0.0030968578248393897\n",
      "Epoch   3, iteration   650, loss: 0.007210059887402167\n",
      "Epoch   3, iteration   700, loss: 0.011695102047733599\n",
      "Epoch   3, iteration   750, loss: 0.003063166617145967\n",
      "Epoch   3, iteration   800, loss: 0.0023180030663388605\n",
      "Epoch   3, iteration   850, loss: 0.005987234162239475\n",
      "Epoch   3, iteration   900, loss: 0.00571241772738361\n",
      "Epoch   3, iteration   950, loss: 0.011513826916398103\n",
      "Epoch   3, iteration  1000, loss: 0.020130751591641457\n",
      "Epoch   3, iteration  1050, loss: 0.004307640877796075\n",
      "Epoch   3, iteration  1100, loss: 0.005769946597023079\n",
      "Epoch   3, iteration  1150, loss: 0.001801869189564158\n",
      "Epoch   3, iteration  1200, loss: 0.0052322849934671465\n",
      "Epoch   3, iteration  1250, loss: 0.0023936923380233565\n",
      "Epoch   3, iteration  1300, loss: 0.00709447049355731\n",
      "Epoch   3, iteration  1350, loss: 0.006429855905739714\n",
      "Epoch   3, iteration  1400, loss: 0.007766444451990537\n",
      "Epoch   3, iteration  1450, loss: 0.01822417015049723\n",
      "Epoch   3, iteration  1500, loss: 0.03605472545565135\n",
      "Epoch   3, iteration  1550, loss: 0.014675628522018086\n"
     ]
    }
   ],
   "source": [
    "epochs = 3\n",
    "\n",
    "loss_history = []\n",
    "running_loss = 0\n",
    "for i in range(epochs):\n",
    "    \n",
    "    for j, (seq, labels) in enumerate(train_seq):\n",
    "        seq = seq.to(device)\n",
    "        labels = labels.to(device)\n",
    "        optimizer.zero_grad()\n",
    "\n",
    "        model.h0 = torch.zeros(model.num_layers, 1, model.hidden_size, device=device)\n",
    "        model.c0 = torch.zeros(model.num_layers, 1, model.hidden_size, device=device)\n",
    "\n",
    "        y_pred = model(seq)\n",
    "               \n",
    "\n",
    "        loss = loss_function(y_pred, labels)\n",
    "        loss.backward()\n",
    "        optimizer.step()\n",
    "\n",
    "        running_loss += loss.item()\n",
    "\n",
    "        if j % 50 == 0:\n",
    "            avg_loss = running_loss / 50\n",
    "            print(f'Epoch {i+1:3}, iteration {j:5}, loss: {avg_loss}')\n",
    "            loss_history.append(avg_loss)\n",
    "            running_loss = 0"
   ]
  },
  {
   "cell_type": "code",
   "execution_count": 0,
   "metadata": {
    "colab": {
     "base_uri": "https://localhost:8080/",
     "height": 404
    },
    "colab_type": "code",
    "id": "xoybvTSIKK8-",
    "outputId": "8a8084e2-9efb-4dae-e85b-e3d0bed343dd"
   },
   "outputs": [
    {
     "data": {
      "image/png": "[encoded data removed]",
      "text/plain": [
       "<Figure size 1008x432 with 1 Axes>"
      ]
     },
     "metadata": {
      "tags": []
     },
     "output_type": "display_data"
    }
   ],
   "source": [
    "fig, ax1 = plt.subplots(1, 1, figsize=(14,6))\n",
    "\n",
    "plt.title(f'loss history after 10 epochs of training')\n",
    "ax1.plot(loss_history)\n",
    "ax1.grid(alpha=.5, linestyle='-.')\n",
    "plt.xlabel('iterations')\n",
    "plt.ylabel('loss')\n",
    "plt.savefig(f'/content/drive/My Drive/Deep Learning Final Project/2-layer-lstm-loss-10-epochs.jpg')"
   ]
  },
  {
   "cell_type": "code",
   "execution_count": 0,
   "metadata": {
    "colab": {},
    "colab_type": "code",
    "id": "NVH3hcHqjEV0"
   },
   "outputs": [],
   "source": [
    "real_labels = []\n",
    "predicted_labels = []\n",
    "\n",
    "with torch.no_grad():\n",
    "    for i, (seq, label) in enumerate(test_seq):\n",
    "        seq = seq.to(device)\n",
    "        label = label.to(device)\n",
    "        \n",
    "        model.h0 = torch.zeros(model.num_layers, 1, model.hidden_size, device=device) \n",
    "        model.c0 = torch.zeros(model.num_layers, 1, model.hidden_size, device=device)\n",
    "\n",
    "        real_labels.append(label)\n",
    "        predicted_labels.append(model(seq))\n",
    "    "
   ]
  },
  {
   "cell_type": "code",
   "execution_count": 0,
   "metadata": {
    "colab": {},
    "colab_type": "code",
    "id": "9eW4yUsw5eRi"
   },
   "outputs": [],
   "source": []
  },
  {
   "cell_type": "code",
   "execution_count": 0,
   "metadata": {
    "colab": {
     "base_uri": "https://localhost:8080/",
     "height": 34
    },
    "colab_type": "code",
    "id": "j5WycRfcyJsG",
    "outputId": "311767f7-57e1-415a-b448-966cc21733d5"
   },
   "outputs": [
    {
     "data": {
      "text/plain": [
       "0.63717777"
      ]
     },
     "execution_count": 252,
     "metadata": {
      "tags": []
     },
     "output_type": "execute_result"
    }
   ],
   "source": [
    "from sklearn.metrics import mean_absolute_error\n",
    "\n",
    "mean_absolute_error(real_labels, predicted_labels)"
   ]
  },
  {
   "cell_type": "code",
   "execution_count": 0,
   "metadata": {
    "colab": {
     "base_uri": "https://localhost:8080/",
     "height": 295
    },
    "colab_type": "code",
    "id": "-fOMRT8HjFTk",
    "outputId": "96e8111e-b29b-4dcd-c513-5e39a157d3d1"
   },
   "outputs": [
    {
     "data": {
      "image/png": "[encoded data removed]",
      "text/plain": [
       "<Figure size 432x288 with 1 Axes>"
      ]
     },
     "metadata": {
      "tags": []
     },
     "output_type": "display_data"
    }
   ],
   "source": [
    "\n",
    "plt.title(f'Stock price predictions after 10 epochs of training')\n",
    "plt.xlabel('Day')\n",
    "plt.ylabel('price')\n",
    "plt.plot(real_labels, label='real')\n",
    "plt.plot(predicted_labels, label='predicted')\n",
    "plt.legend();\n",
    "\n",
    "# plt.savefig(f'/content/drive/My Drive/Deep Learning Final Project/2-layer-lstm-preds-10-epoch.jpg')"
   ]
  },
  {
   "cell_type": "code",
   "execution_count": 0,
   "metadata": {
    "colab": {},
    "colab_type": "code",
    "id": "ItQu0OwXv7ds"
   },
   "outputs": [],
   "source": []
  }
 ],
 "metadata": {
  "colab": {
   "collapsed_sections": [],
   "name": "DL_Final - lstm 2 layer.ipynb",
   "provenance": []
  },
  "kernelspec": {
   "display_name": "Python 3",
   "language": "python",
   "name": "python3"
  },
  "language_info": {
   "codemirror_mode": {
    "name": "ipython",
    "version": 3
   },
   "file_extension": ".py",
   "mimetype": "text/x-python",
   "name": "python",
   "nbconvert_exporter": "python",
   "pygments_lexer": "ipython3",
   "version": "3.7.1"
  }
 },
 "nbformat": 4,
 "nbformat_minor": 1
}
